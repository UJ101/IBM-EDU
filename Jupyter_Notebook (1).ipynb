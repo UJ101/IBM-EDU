{
 "cells": [
  {
   "cell_type": "markdown",
   "metadata": {},
   "source": [
    "<center>\n",
    "    <img src=\"https://cf-courses-data.s3.us.cloud-object-storage.appdomain.cloud/IBMDeveloperSkillsNetwork-DS0105EN-SkillsNetwork/labs/Module2/images/SN_web_lightmode.png\" width=\"300\" alt=\"cognitiveclass.ai logo\">\n",
    "</center>\n"
   ]
  },
  {
   "cell_type": "markdown",
   "metadata": {},
   "source": [
    "#### Add your code below following the instructions given in the course\n"
   ]
  },
  {
   "cell_type": "markdown",
   "metadata": {},
   "source": [
    "# Heading 1\n",
    "Data Science Tools and Ecosystem"
   ]
  },
  {
   "cell_type": "code",
   "execution_count": null,
   "metadata": {},
   "outputs": [],
   "source": []
  },
  {
   "cell_type": "markdown",
   "metadata": {},
   "source": [
    "In this notebook, Data Science Tools and Ecosystem are summarized."
   ]
  },
  {
   "cell_type": "markdown",
   "metadata": {},
   "source": [
    "Exercise 10 - Insert a markdown cell to list Objectives"
   ]
  },
  {
   "cell_type": "markdown",
   "metadata": {},
   "source": [
    "## Objectives:"
   ]
  },
  {
   "cell_type": "markdown",
   "metadata": {},
   "source": [
    "# 1. Python"
   ]
  },
  {
   "cell_type": "markdown",
   "metadata": {},
   "source": [
    "## 2. R"
   ]
  },
  {
   "cell_type": "markdown",
   "metadata": {},
   "source": [
    "## 3. Java"
   ]
  },
  {
   "cell_type": "code",
   "execution_count": null,
   "metadata": {},
   "outputs": [],
   "source": []
  },
  {
   "cell_type": "markdown",
   "metadata": {},
   "source": [
    "Some of the popular languages that Data Scientists use are:"
   ]
  },
  {
   "cell_type": "markdown",
   "metadata": {},
   "source": [
    "|Popular Languages of data science |"
   ]
  },
  {
   "cell_type": "markdown",
   "metadata": {},
   "source": [
    "|____________________________________|"
   ]
  },
  {
   "cell_type": "markdown",
   "metadata": {},
   "source": [
    "| 1. Python |"
   ]
  },
  {
   "cell_type": "markdown",
   "metadata": {},
   "source": [
    "| 2. R |"
   ]
  },
  {
   "cell_type": "markdown",
   "metadata": {},
   "source": [
    "| 3. Java |"
   ]
  },
  {
   "cell_type": "markdown",
   "metadata": {},
   "source": [
    "|________________________|"
   ]
  },
  {
   "cell_type": "markdown",
   "metadata": {},
   "source": [
    "Some of the commonly used libraries used by Data Scientists include:"
   ]
  },
  {
   "cell_type": "markdown",
   "metadata": {},
   "source": [
    "Some of the commonly used libraries by Data Scientists include:\n",
    "\n",
    "1. **Pandas**: For data manipulation and analysis, offering data structures like DataFrames.\n",
    "2. **NumPy**: Provides support for large, multi-dimensional arrays and matrices, along with a collection of mathematical functions.\n",
    "3. **Matplotlib**: A plotting library for creating static, animated, and interactive visualizations in Python.\n",
    "4. **Seaborn**: Built on top of Matplotlib, it offers enhanced data visualization, especially for statistical graphics.\n",
    "5. **Scikit-learn**: A machine learning library that includes algorithms for classification, regression, clustering, and dimensionality reduction.\n",
    "6. **TensorFlow**: An open-source platform for machine learning, often used for deep learning models.\n",
    "7. **Keras**: A user-friendly API built on top of TensorFlow for building and training neural networks.\n",
    "8. **PyTorch**: Another deep learning framework, popular for its dynamic computational graph and ease of use.\n",
    "9. **SciPy**: Useful for scientific and technical computing, including modules for optimization, integration, interpolation, and signal processing.\n",
    "10. **Statsmodels**: For statistical modeling and testing, including regression, ANOVA, and time-series analysis.\n",
    "\n",
    "These libraries enable data manipulation, visualization, machine learning, and deep learning tasks commonly required in data science projects."
   ]
  },
  {
   "cell_type": "markdown",
   "metadata": {},
   "source": [
    "Data science Tools"
   ]
  },
  {
   "cell_type": "markdown",
   "metadata": {},
   "source": [
    "\n",
    "\n",
    "| **Tool**          | **Purpose**                                        |\n",
    "|-------------------|----------------------------------------------------|\n",
    "| **Pandas**        | Data manipulation and analysis                     |\n",
    "| **NumPy**         | Numerical computing and array manipulation         |\n",
    "| **Matplotlib**    | Data visualization (static/interactive plots)      |\n",
    "| **Seaborn**       | Enhanced statistical data visualization            |\n",
    "| **Scikit-learn**  | Machine learning algorithms and model building     |\n",
    "| **TensorFlow**    | Deep learning and neural networks                  |\n",
    "| **Keras**         | High-level API for deep learning                   |\n",
    "| **PyTorch**       | Deep learning, dynamic computational graph         |\n",
    "| **SciPy**         | Scientific computing and technical computing       |\n",
    "| **Statsmodels**   | Statistical modeling and hypothesis testing        |\n",
    "| **Jupyter**       | Interactive coding notebooks for documentation     |\n",
    "| **Dask**          | Parallel computing and big data processing         |\n",
    "| **H2O.ai**        | Scalable machine learning                          |\n",
    "| **Apache Spark**  | Distributed computing for big data                 |\n",
    "\n"
   ]
  },
  {
   "cell_type": "markdown",
   "metadata": {},
   "source": [
    "### Below are exsamples of evaluating aritmetic expressions in python"
   ]
  },
  {
   "cell_type": "code",
   "execution_count": 2,
   "metadata": {},
   "outputs": [
    {
     "data": {
      "text/markdown": [
       "\n",
       "## Basic Math in Jupyter using Python and Markdown\n",
       "\n",
       "You can use LaTeX inside Markdown cells to write mathematical equations and expressions.\n",
       "\n",
       "### Common Math Operators\n",
       "\n",
       "Here are some examples of math operators and their representations in LaTeX:\n",
       "\n",
       "- **Addition**: \\( a + b \\)\n",
       "- **Subtraction**: \\( a - b \\)\n",
       "- **Multiplication**: \\( a \times b \\)\n",
       "- **Division**: \\( \\frac{a}{b} \\)\n",
       "- **Exponentiation**: \\( a^b \\)\n",
       "\n",
       "### Quadratic Equation\n",
       "\n",
       "The quadratic formula is given by:\n",
       "\n",
       "\\[\n",
       "x = \\frac{-b \\pm \\sqrt{b^2 - 4ac}}{2a}\n",
       "\\]\n",
       "\n",
       "This formula is used to find the roots of a quadratic equation \\( ax^2 + bx + c = 0 \\).\n",
       "\n",
       "### Example: Pythagorean Theorem\n",
       "\n",
       "The Pythagorean theorem is:\n",
       "\n",
       "\\[\n",
       "c = \\sqrt{a^2 + b^2}\n",
       "\\]\n",
       "\n",
       "This theorem calculates the length of the hypotenuse \\( c \\) of a right triangle, where \\( a \\) and \\( b \\) are the lengths of the other two sides.\n"
      ],
      "text/plain": [
       "<IPython.core.display.Markdown object>"
      ]
     },
     "execution_count": 2,
     "metadata": {},
     "output_type": "execute_result"
    }
   ],
   "source": [
    "from IPython.display import Markdown\n",
    "\n",
    "# Creating a markdown cell with math expressions\n",
    "Markdown(\"\"\"\n",
    "## Basic Math in Jupyter using Python and Markdown\n",
    "\n",
    "You can use LaTeX inside Markdown cells to write mathematical equations and expressions.\n",
    "\n",
    "### Common Math Operators\n",
    "\n",
    "Here are some examples of math operators and their representations in LaTeX:\n",
    "\n",
    "- **Addition**: \\( a + b \\)\n",
    "- **Subtraction**: \\( a - b \\)\n",
    "- **Multiplication**: \\( a \\times b \\)\n",
    "- **Division**: \\( \\\\frac{a}{b} \\)\n",
    "- **Exponentiation**: \\( a^b \\)\n",
    "\n",
    "### Quadratic Equation\n",
    "\n",
    "The quadratic formula is given by:\n",
    "\n",
    "\\[\n",
    "x = \\\\frac{-b \\\\pm \\\\sqrt{b^2 - 4ac}}{2a}\n",
    "\\]\n",
    "\n",
    "This formula is used to find the roots of a quadratic equation \\( ax^2 + bx + c = 0 \\).\n",
    "\n",
    "### Example: Pythagorean Theorem\n",
    "\n",
    "The Pythagorean theorem is:\n",
    "\n",
    "\\[\n",
    "c = \\\\sqrt{a^2 + b^2}\n",
    "\\]\n",
    "\n",
    "This theorem calculates the length of the hypotenuse \\( c \\) of a right triangle, where \\( a \\) and \\( b \\) are the lengths of the other two sides.\n",
    "\"\"\")\n"
   ]
  },
  {
   "cell_type": "markdown",
   "metadata": {},
   "source": [
    "### Addition (a + b)"
   ]
  },
  {
   "cell_type": "markdown",
   "metadata": {},
   "source": [
    "### Subtraction ( a - b)"
   ]
  },
  {
   "cell_type": "markdown",
   "metadata": {},
   "source": [
    "### Multiplication ( a * b )"
   ]
  },
  {
   "cell_type": "markdown",
   "metadata": {},
   "source": [
    "### Division  a / b"
   ]
  },
  {
   "cell_type": "markdown",
   "metadata": {},
   "source": [
    "### (a**b)"
   ]
  },
  {
   "cell_type": "code",
   "execution_count": null,
   "metadata": {},
   "outputs": [],
   "source": []
  },
  {
   "cell_type": "markdown",
   "metadata": {},
   "source": [
    "#### Exercise 8"
   ]
  },
  {
   "cell_type": "markdown",
   "metadata": {},
   "source": [
    "## This a simple arithmetic expression to mutiply then add integers"
   ]
  },
  {
   "cell_type": "code",
   "execution_count": 7,
   "metadata": {},
   "outputs": [
    {
     "data": {
      "text/plain": [
       "17"
      ]
     },
     "execution_count": 7,
     "metadata": {},
     "output_type": "execute_result"
    }
   ],
   "source": [
    "(3*4)+5"
   ]
  },
  {
   "cell_type": "markdown",
   "metadata": {},
   "source": [
    "#### Exercise 9 - Create a code cell to convert minutes to hours"
   ]
  },
  {
   "cell_type": "markdown",
   "metadata": {},
   "source": [
    "Convert 200 minuts to hours "
   ]
  },
  {
   "cell_type": "code",
   "execution_count": 11,
   "metadata": {},
   "outputs": [
    {
     "data": {
      "text/plain": [
       "3.3333333333333335"
      ]
     },
     "execution_count": 11,
     "metadata": {},
     "output_type": "execute_result"
    }
   ],
   "source": [
    "(200/60)"
   ]
  },
  {
   "cell_type": "code",
   "execution_count": null,
   "metadata": {},
   "outputs": [],
   "source": []
  },
  {
   "cell_type": "markdown",
   "metadata": {},
   "source": [
    "## Author "
   ]
  },
  {
   "cell_type": "markdown",
   "metadata": {},
   "source": [
    "Wyatt James Brooks"
   ]
  },
  {
   "cell_type": "code",
   "execution_count": null,
   "metadata": {},
   "outputs": [],
   "source": []
  }
 ],
 "metadata": {
  "kernelspec": {
   "display_name": "Python 3 (ipykernel)",
   "language": "python",
   "name": "python3"
  },
  "language_info": {
   "codemirror_mode": {
    "name": "ipython",
    "version": 3
   },
   "file_extension": ".py",
   "mimetype": "text/x-python",
   "name": "python",
   "nbconvert_exporter": "python",
   "pygments_lexer": "ipython3",
   "version": "3.11.9"
  }
 },
 "nbformat": 4,
 "nbformat_minor": 4
}
